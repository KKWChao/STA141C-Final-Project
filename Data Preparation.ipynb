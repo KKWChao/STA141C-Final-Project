{
 "cells": [
  {
   "cell_type": "markdown",
   "metadata": {},
   "source": [
    "# Data Preparation "
   ]
  },
  {
   "cell_type": "code",
   "execution_count": 85,
   "metadata": {},
   "outputs": [],
   "source": [
    "# load packages\n",
    "\n",
    "import numpy as np\n",
    "import pandas as pd"
   ]
  },
  {
   "cell_type": "code",
   "execution_count": 33,
   "metadata": {
    "scrolled": true
   },
   "outputs": [
    {
     "name": "stderr",
     "output_type": "stream",
     "text": [
      "/anaconda3/lib/python3.6/site-packages/IPython/core/interactiveshell.py:2785: DtypeWarning: Columns (21) have mixed types. Specify dtype option on import or set low_memory=False.\n",
      "  interactivity=interactivity, compiler=compiler, result=result)\n"
     ]
    }
   ],
   "source": [
    "# load dataset \n",
    "\n",
    "Chicago_Crimes_2005_to_2007 = pd.read_csv(\"crimes-in-chicago/Chicago_Crimes_2005_to_2007.csv\", usecols = range(23))\n",
    "Chicago_Crimes_2008_to_2011 = pd.read_csv(\"crimes-in-chicago/Chicago_Crimes_2008_to_2011.csv\", usecols = range(23))\n",
    "Chicago_Crimes_2012_to_2017 = pd.read_csv(\"crimes-in-chicago/Chicago_Crimes_2012_to_2017.csv\", usecols = range(23))\n",
    "\n",
    "# merge data \n",
    "Chicago_Crimes_2005_to_2017 = pd.concat([Chicago_Crimes_2005_to_2007, Chicago_Crimes_2008_to_2011, Chicago_Crimes_2012_to_2017])"
   ]
  },
  {
   "cell_type": "code",
   "execution_count": 34,
   "metadata": {},
   "outputs": [
    {
     "name": "stdout",
     "output_type": "stream",
     "text": [
      "[2006 2005 2007 2008 2009 2011 2010 2016 2015 2012 2014 2013 2017]\n",
      "[2007 2008 2009 2011 2010 2016 2015 2012 2014 2013 2017]\n"
     ]
    }
   ],
   "source": [
    "# filter the dataset by years and export data from 2007 to 2017\n",
    "\n",
    "Chicago_Crimes_2005_to_2017.head(20)\n",
    "print(Chicago_Crimes_2005_to_2017.Year.unique())\n",
    "Chicago_Crimes_2007_to_2017 = Chicago_Crimes_2005_to_2017.loc[(Chicago_Crimes_2005_to_2017['Year'] >= 2007) \n",
    "                                                              & (Chicago_Crimes_2005_to_2017['Year'] <= 2017)]\n",
    "print(Chicago_Crimes_2007_to_2017.Year.unique())\n",
    "\n",
    "# store the new DataFrame to a csv file for later use.\n",
    "Chicago_Crimes_2007_to_2017.to_csv(\"Chicago_Crimes_2007_to_2017.csv\",index=False)"
   ]
  },
  {
   "cell_type": "code",
   "execution_count": 64,
   "metadata": {},
   "outputs": [
    {
     "name": "stderr",
     "output_type": "stream",
     "text": [
      "/anaconda3/lib/python3.6/site-packages/IPython/core/interactiveshell.py:2785: DtypeWarning: Columns (21) have mixed types. Specify dtype option on import or set low_memory=False.\n",
      "  interactivity=interactivity, compiler=compiler, result=result)\n"
     ]
    },
    {
     "name": "stdout",
     "output_type": "stream",
     "text": [
      "['Unnamed: 0' 'ID' 'Case Number' 'Date' 'Block' 'IUCR' 'Primary Type'\n",
      " 'Description' 'Location Description' 'Arrest' 'Domestic' 'Beat'\n",
      " 'District' 'Ward' 'Community Area' 'FBI Code' 'X Coordinate'\n",
      " 'Y Coordinate' 'Year' 'Updated On' 'Latitude' 'Longitude' 'Location']\n",
      "ID                        int64\n",
      "Case Number              object\n",
      "Date                     object\n",
      "Block                    object\n",
      "IUCR                     object\n",
      "Primary Type             object\n",
      "Description              object\n",
      "Location Description     object\n",
      "Arrest                     bool\n",
      "Domestic                   bool\n",
      "Beat                      int64\n",
      "District                float64\n",
      "Ward                    float64\n",
      "Community Area          float64\n",
      "FBI Code                 object\n",
      "X Coordinate            float64\n",
      "Y Coordinate            float64\n",
      "Year                      int64\n",
      "Updated On               object\n",
      "Latitude                float64\n",
      "Longitude                object\n",
      "Location                 object\n",
      "dtype: object\n",
      "(4496569, 22)\n"
     ]
    }
   ],
   "source": [
    "# load data from 2007 to 2017\n",
    "df = pd.read_csv(\"Chicago_Crimes_2007_to_2017.csv\")\n",
    "\n",
    "# check for features \n",
    "print(df.columns.values)\n",
    "\n",
    "# drop unnecessary features, col 0\n",
    "df = df.drop(df.columns[0], axis=1)\n",
    "print(df.dtypes)\n",
    "print(df.shape) # (4496569, 22), 22 features \n",
    "\n",
    "# removing columns X/Y Coordinate, Updated On, Latitude, Longitude\n",
    "df.drop(['X Coordinate', 'Y Coordinate', 'Updated On', 'Latitude', 'Longitude'], axis = 1, inplace = True)"
   ]
  },
  {
   "cell_type": "code",
   "execution_count": 65,
   "metadata": {},
   "outputs": [
    {
     "data": {
      "text/plain": [
       "False"
      ]
     },
     "execution_count": 65,
     "metadata": {},
     "output_type": "execute_result"
    }
   ],
   "source": [
    "# check uniqueness of ID\n",
    "\n",
    "df['ID'].is_unique #no unique, cases being recorded multiple times "
   ]
  },
  {
   "cell_type": "code",
   "execution_count": 66,
   "metadata": {},
   "outputs": [
    {
     "name": "stdout",
     "output_type": "stream",
     "text": [
      "3182854\n",
      "(3182854, 16)\n"
     ]
    }
   ],
   "source": [
    "# return only one record per case by removing duplicated rows \n",
    "# ex: df[df['ID'] == 7781132]; 7815319, 7781132, 6023200  \n",
    "\n",
    "print(len(df.ID.unique())) #3182854, but we have 4496569 rows \n",
    "df.drop_duplicates(keep = 'first', inplace = True) #remove duplicates \n",
    "\n",
    "# drop Case number, we are using ID as the primary key\n",
    "df.drop(['Case Number'], axis = 1, inplace = True)\n",
    "df.reset_index(inplace = True)\n",
    "\n",
    "print(df.shape) #(3182854, 16) #matched "
   ]
  },
  {
   "cell_type": "code",
   "execution_count": 74,
   "metadata": {},
   "outputs": [
    {
     "data": {
      "text/plain": [
       "926"
      ]
     },
     "execution_count": 74,
     "metadata": {},
     "output_type": "execute_result"
    }
   ],
   "source": [
    "# check for missing values\n",
    "\n",
    "df.isna().any() # Case Number, Location Description, District, Ward, Community Area\n",
    "\n",
    "# Replace null values with 'Other' option; categorical \n",
    "df['Location Description'].value_counts() # 154 types + other\n",
    "df['Location Description'].isna().sum() # 1933 null values \n",
    "df['Location Description'].fillna(\"Other\", inplace = True)\n",
    "\n",
    "# Numerical missing values \n",
    "df['District'].value_counts() # 25districts + nan\n",
    "df['District'].isna().sum() # 43 nan\n",
    "\n",
    "df['Ward'].value_counts() # 50 + nan\n",
    "df['Ward'].isna().sum() # 56 nan\n",
    "\n",
    "df['Community Area'].value_counts() # 78 + nan\n",
    "df['Community Area'].isna().sum() # 926 nan\n",
    "\n",
    "############TBC"
   ]
  },
  {
   "cell_type": "code",
   "execution_count": 104,
   "metadata": {},
   "outputs": [
    {
     "data": {
      "text/plain": [
       "index                     int64\n",
       "ID                        int64\n",
       "Case Number              object\n",
       "Block                    object\n",
       "IUCR                     object\n",
       "Primary Type             object\n",
       "Description              object\n",
       "Location Description     object\n",
       "Arrest                     bool\n",
       "Domestic                   bool\n",
       "Beat                      int64\n",
       "District                float64\n",
       "Ward                    float64\n",
       "Community Area          float64\n",
       "FBI Code                 object\n",
       "Year                      int64\n",
       "Date                     object\n",
       "Time                     object\n",
       "dtype: object"
      ]
     },
     "execution_count": 104,
     "metadata": {},
     "output_type": "execute_result"
    }
   ],
   "source": [
    "# separate Date column into two col: date and time \n",
    "\n",
    "df.Date.head(10)\n",
    "datetime = pd.to_datetime(df.Date, errors='coerce')\n",
    "\n",
    "df.drop(['Date'], axis = 1, inplace = True)\n",
    "df['Date'] = datetime.dt.date\n",
    "df['Time'] = datetime.dt.time\n",
    "\n",
    "df.dtypes"
   ]
  },
  {
   "cell_type": "code",
   "execution_count": null,
   "metadata": {},
   "outputs": [],
   "source": [
    "df.to_csv(\"cleanedData_ver1.csv\",index=False)"
   ]
  },
  {
   "cell_type": "code",
   "execution_count": null,
   "metadata": {},
   "outputs": [],
   "source": []
  }
 ],
 "metadata": {
  "kernelspec": {
   "display_name": "Python 3",
   "language": "python",
   "name": "python3"
  },
  "language_info": {
   "codemirror_mode": {
    "name": "ipython",
    "version": 3
   },
   "file_extension": ".py",
   "mimetype": "text/x-python",
   "name": "python",
   "nbconvert_exporter": "python",
   "pygments_lexer": "ipython3",
   "version": "3.6.5"
  }
 },
 "nbformat": 4,
 "nbformat_minor": 2
}
