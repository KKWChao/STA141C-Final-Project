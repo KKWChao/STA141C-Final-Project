{
 "cells": [
  {
   "cell_type": "markdown",
   "metadata": {},
   "source": [
    "# Data Preparation "
   ]
  },
  {
   "cell_type": "code",
   "execution_count": 3,
   "metadata": {},
   "outputs": [],
   "source": [
    "# load packages\n",
    "\n",
    "import numpy as np\n",
    "import pandas as pd"
   ]
  },
  {
   "cell_type": "code",
   "execution_count": 33,
   "metadata": {
    "scrolled": true
   },
   "outputs": [
    {
     "name": "stderr",
     "output_type": "stream",
     "text": [
      "/anaconda3/lib/python3.6/site-packages/IPython/core/interactiveshell.py:2785: DtypeWarning: Columns (21) have mixed types. Specify dtype option on import or set low_memory=False.\n",
      "  interactivity=interactivity, compiler=compiler, result=result)\n"
     ]
    }
   ],
   "source": [
    "# load dataset \n",
    "\n",
    "Chicago_Crimes_2005_to_2007 = pd.read_csv(\"crimes-in-chicago/Chicago_Crimes_2005_to_2007.csv\", usecols = range(23))\n",
    "Chicago_Crimes_2008_to_2011 = pd.read_csv(\"crimes-in-chicago/Chicago_Crimes_2008_to_2011.csv\", usecols = range(23))\n",
    "Chicago_Crimes_2012_to_2017 = pd.read_csv(\"crimes-in-chicago/Chicago_Crimes_2012_to_2017.csv\", usecols = range(23))\n",
    "\n",
    "# merge data \n",
    "Chicago_Crimes_2005_to_2017 = pd.concat([Chicago_Crimes_2005_to_2007, Chicago_Crimes_2008_to_2011, Chicago_Crimes_2012_to_2017])"
   ]
  },
  {
   "cell_type": "code",
   "execution_count": 34,
   "metadata": {},
   "outputs": [
    {
     "name": "stdout",
     "output_type": "stream",
     "text": [
      "[2006 2005 2007 2008 2009 2011 2010 2016 2015 2012 2014 2013 2017]\n",
      "[2007 2008 2009 2011 2010 2016 2015 2012 2014 2013 2017]\n"
     ]
    }
   ],
   "source": [
    "# filter the dataset by years and export data from 2007 to 2017\n",
    "\n",
    "Chicago_Crimes_2005_to_2017.head(20)\n",
    "print(Chicago_Crimes_2005_to_2017.Year.unique())\n",
    "Chicago_Crimes_2007_to_2017 = Chicago_Crimes_2005_to_2017.loc[(Chicago_Crimes_2005_to_2017['Year'] >= 2007) \n",
    "                                                              & (Chicago_Crimes_2005_to_2017['Year'] <= 2017)]\n",
    "print(Chicago_Crimes_2007_to_2017.Year.unique())\n",
    "\n",
    "# store the new DataFrame to a csv file for later use.\n",
    "# Chicago_Crimes_2007_to_2017.to_csv(\"Chicago_Crimes_2007_to_2017.csv\",index=False)"
   ]
  },
  {
   "cell_type": "code",
   "execution_count": 4,
   "metadata": {},
   "outputs": [
    {
     "name": "stderr",
     "output_type": "stream",
     "text": [
      "/anaconda3/lib/python3.6/site-packages/IPython/core/interactiveshell.py:2785: DtypeWarning: Columns (21) have mixed types. Specify dtype option on import or set low_memory=False.\n",
      "  interactivity=interactivity, compiler=compiler, result=result)\n"
     ]
    },
    {
     "name": "stdout",
     "output_type": "stream",
     "text": [
      "['Unnamed: 0' 'ID' 'Case Number' 'Date' 'Block' 'IUCR' 'Primary Type'\n",
      " 'Description' 'Location Description' 'Arrest' 'Domestic' 'Beat'\n",
      " 'District' 'Ward' 'Community Area' 'FBI Code' 'X Coordinate'\n",
      " 'Y Coordinate' 'Year' 'Updated On' 'Latitude' 'Longitude' 'Location']\n",
      "ID                        int64\n",
      "Case Number              object\n",
      "Date                     object\n",
      "Block                    object\n",
      "IUCR                     object\n",
      "Primary Type             object\n",
      "Description              object\n",
      "Location Description     object\n",
      "Arrest                     bool\n",
      "Domestic                   bool\n",
      "Beat                      int64\n",
      "District                float64\n",
      "Ward                    float64\n",
      "Community Area          float64\n",
      "FBI Code                 object\n",
      "X Coordinate            float64\n",
      "Y Coordinate            float64\n",
      "Year                      int64\n",
      "Updated On               object\n",
      "Latitude                float64\n",
      "Longitude                object\n",
      "Location                 object\n",
      "dtype: object\n",
      "(4496569, 22)\n"
     ]
    }
   ],
   "source": [
    "# load data from 2007 to 2017\n",
    "df = pd.read_csv(\"Chicago_Crimes_2007_to_2017.csv\")\n",
    "\n",
    "# check for features \n",
    "print(df.columns.values)\n",
    "\n",
    "# drop unnecessary features, col 0\n",
    "df = df.drop(df.columns[0], axis=1)\n",
    "print(df.dtypes)\n",
    "print(df.shape) # (4496569, 22), 22 features \n",
    "\n",
    "# removing columns X/Y Coordinate, Updated On\n",
    "df.drop(['X Coordinate', 'Y Coordinate', 'Updated On'], axis = 1, inplace = True)\n"
   ]
  },
  {
   "cell_type": "code",
   "execution_count": 5,
   "metadata": {},
   "outputs": [
    {
     "data": {
      "text/plain": [
       "False"
      ]
     },
     "execution_count": 5,
     "metadata": {},
     "output_type": "execute_result"
    }
   ],
   "source": [
    "# observations\n",
    "\n",
    "df.Date.head(10) # separate data into two col: date and time \n",
    "df['Y Coordinate'].head(10) # get rid of X&Y Coordinates (NaN)\n",
    "df.Latitude.head(10)\n",
    "df.isna().any() # check for missing values\n",
    "df['ID'].is_unique #no unique, cases being recorded multiple times "
   ]
  },
  {
   "cell_type": "code",
   "execution_count": 15,
   "metadata": {},
   "outputs": [
    {
     "name": "stdout",
     "output_type": "stream",
     "text": [
      "3182854\n"
     ]
    },
    {
     "ename": "TypeError",
     "evalue": "'tuple' object is not callable",
     "output_type": "error",
     "traceback": [
      "\u001b[0;31m---------------------------------------------------------------------------\u001b[0m",
      "\u001b[0;31mTypeError\u001b[0m                                 Traceback (most recent call last)",
      "\u001b[0;32m<ipython-input-15-4480515bb5e3>\u001b[0m in \u001b[0;36m<module>\u001b[0;34m()\u001b[0m\n\u001b[1;32m      3\u001b[0m \u001b[0mprint\u001b[0m\u001b[0;34m(\u001b[0m\u001b[0mlen\u001b[0m\u001b[0;34m(\u001b[0m\u001b[0mdf\u001b[0m\u001b[0;34m.\u001b[0m\u001b[0mID\u001b[0m\u001b[0;34m.\u001b[0m\u001b[0munique\u001b[0m\u001b[0;34m(\u001b[0m\u001b[0;34m)\u001b[0m\u001b[0;34m)\u001b[0m\u001b[0;34m)\u001b[0m \u001b[0;31m#3182854, but we have 4496569 rows\u001b[0m\u001b[0;34m\u001b[0m\u001b[0m\n\u001b[1;32m      4\u001b[0m \u001b[0mdf\u001b[0m\u001b[0;34m.\u001b[0m\u001b[0mdrop_duplicates\u001b[0m\u001b[0;34m(\u001b[0m\u001b[0mkeep\u001b[0m \u001b[0;34m=\u001b[0m \u001b[0;34m'first'\u001b[0m\u001b[0;34m,\u001b[0m \u001b[0minplace\u001b[0m \u001b[0;34m=\u001b[0m \u001b[0;32mTrue\u001b[0m\u001b[0;34m)\u001b[0m\u001b[0;34m\u001b[0m\u001b[0m\n\u001b[0;32m----> 5\u001b[0;31m \u001b[0mprint\u001b[0m\u001b[0;34m(\u001b[0m\u001b[0mdf\u001b[0m\u001b[0;34m.\u001b[0m\u001b[0mshape\u001b[0m\u001b[0;34m(\u001b[0m\u001b[0;34m)\u001b[0m\u001b[0;34m)\u001b[0m\u001b[0;34m\u001b[0m\u001b[0m\n\u001b[0m",
      "\u001b[0;31mTypeError\u001b[0m: 'tuple' object is not callable"
     ]
    }
   ],
   "source": [
    "# return only one record per case by removing duplicated rows \n",
    "\n",
    "print(len(df.ID.unique())) #3182854, but we have 4496569 rows \n",
    "df.drop_duplicates(keep = 'first', inplace = True)\n",
    "print(df.shape) #(3210707, 19)"
   ]
  },
  {
   "cell_type": "code",
   "execution_count": 33,
   "metadata": {},
   "outputs": [
    {
     "name": "stdout",
     "output_type": "stream",
     "text": [
      "(3182854, 19)\n"
     ]
    }
   ],
   "source": [
    "# drop duplicated IDs \n",
    "# ex: df[df['ID'] == 7781132]; 7815319, 7781132, 6023200     \n",
    "\n",
    "df.drop_duplicates(subset = 'ID', keep = 'first', inplace = True)\n",
    "print(df.shape)\n"
   ]
  },
  {
   "cell_type": "code",
   "execution_count": 36,
   "metadata": {},
   "outputs": [
    {
     "name": "stderr",
     "output_type": "stream",
     "text": [
      "/anaconda3/lib/python3.6/site-packages/IPython/core/interactiveshell.py:2785: DtypeWarning: Columns (21) have mixed types. Specify dtype option on import or set low_memory=False.\n",
      "  interactivity=interactivity, compiler=compiler, result=result)\n"
     ]
    },
    {
     "data": {
      "text/html": [
       "<div>\n",
       "<style scoped>\n",
       "    .dataframe tbody tr th:only-of-type {\n",
       "        vertical-align: middle;\n",
       "    }\n",
       "\n",
       "    .dataframe tbody tr th {\n",
       "        vertical-align: top;\n",
       "    }\n",
       "\n",
       "    .dataframe thead th {\n",
       "        text-align: right;\n",
       "    }\n",
       "</style>\n",
       "<table border=\"1\" class=\"dataframe\">\n",
       "  <thead>\n",
       "    <tr style=\"text-align: right;\">\n",
       "      <th></th>\n",
       "      <th>Unnamed: 0</th>\n",
       "      <th>ID</th>\n",
       "      <th>Case Number</th>\n",
       "      <th>Date</th>\n",
       "      <th>Block</th>\n",
       "      <th>IUCR</th>\n",
       "      <th>Primary Type</th>\n",
       "      <th>Description</th>\n",
       "      <th>Location Description</th>\n",
       "      <th>Arrest</th>\n",
       "      <th>...</th>\n",
       "      <th>Ward</th>\n",
       "      <th>Community Area</th>\n",
       "      <th>FBI Code</th>\n",
       "      <th>X Coordinate</th>\n",
       "      <th>Y Coordinate</th>\n",
       "      <th>Year</th>\n",
       "      <th>Updated On</th>\n",
       "      <th>Latitude</th>\n",
       "      <th>Longitude</th>\n",
       "      <th>Location</th>\n",
       "    </tr>\n",
       "  </thead>\n",
       "  <tbody>\n",
       "    <tr>\n",
       "      <th>380611</th>\n",
       "      <td>903886</td>\n",
       "      <td>6023200</td>\n",
       "      <td>HP122123</td>\n",
       "      <td>01/13/2008 03:43:03 PM</td>\n",
       "      <td>052XX W FERDINAND ST</td>\n",
       "      <td>2024</td>\n",
       "      <td>NARCOTICS</td>\n",
       "      <td>POSS: HEROIN(WHITE)</td>\n",
       "      <td>ALLEY</td>\n",
       "      <td>True</td>\n",
       "      <td>...</td>\n",
       "      <td>28.0</td>\n",
       "      <td>25.0</td>\n",
       "      <td>18</td>\n",
       "      <td>1141315.0</td>\n",
       "      <td>1902645.0</td>\n",
       "      <td>2008</td>\n",
       "      <td>02/04/2016 06:33:39 AM</td>\n",
       "      <td>41.888933</td>\n",
       "      <td>-87.7565</td>\n",
       "      <td>(41.888932876, -87.756493754)</td>\n",
       "    </tr>\n",
       "    <tr>\n",
       "      <th>1528107</th>\n",
       "      <td>903886</td>\n",
       "      <td>6023200</td>\n",
       "      <td>HP122123</td>\n",
       "      <td>01/13/2008 03:43:03 PM</td>\n",
       "      <td>052XX W FERDINAND ST</td>\n",
       "      <td>2024</td>\n",
       "      <td>NARCOTICS</td>\n",
       "      <td>POSS: HEROIN(WHITE)</td>\n",
       "      <td>ALLEY</td>\n",
       "      <td>True</td>\n",
       "      <td>...</td>\n",
       "      <td>28.0</td>\n",
       "      <td>25.0</td>\n",
       "      <td>18</td>\n",
       "      <td>1141315.0</td>\n",
       "      <td>1902645.0</td>\n",
       "      <td>2008</td>\n",
       "      <td>02/04/2016 06:33:39 AM</td>\n",
       "      <td>41.888933</td>\n",
       "      <td>-87.7565</td>\n",
       "      <td>(41.888932876, -87.756493754)</td>\n",
       "    </tr>\n",
       "  </tbody>\n",
       "</table>\n",
       "<p>2 rows × 23 columns</p>\n",
       "</div>"
      ],
      "text/plain": [
       "         Unnamed: 0       ID Case Number                    Date  \\\n",
       "380611       903886  6023200    HP122123  01/13/2008 03:43:03 PM   \n",
       "1528107      903886  6023200    HP122123  01/13/2008 03:43:03 PM   \n",
       "\n",
       "                        Block  IUCR Primary Type          Description  \\\n",
       "380611   052XX W FERDINAND ST  2024    NARCOTICS  POSS: HEROIN(WHITE)   \n",
       "1528107  052XX W FERDINAND ST  2024    NARCOTICS  POSS: HEROIN(WHITE)   \n",
       "\n",
       "        Location Description  Arrest              ...                Ward  \\\n",
       "380611                 ALLEY    True              ...                28.0   \n",
       "1528107                ALLEY    True              ...                28.0   \n",
       "\n",
       "         Community Area  FBI Code  X Coordinate  Y Coordinate  Year  \\\n",
       "380611             25.0        18     1141315.0     1902645.0  2008   \n",
       "1528107            25.0        18     1141315.0     1902645.0  2008   \n",
       "\n",
       "                     Updated On   Latitude  Longitude  \\\n",
       "380611   02/04/2016 06:33:39 AM  41.888933   -87.7565   \n",
       "1528107  02/04/2016 06:33:39 AM  41.888933   -87.7565   \n",
       "\n",
       "                              Location  \n",
       "380611   (41.888932876, -87.756493754)  \n",
       "1528107  (41.888932876, -87.756493754)  \n",
       "\n",
       "[2 rows x 23 columns]"
      ]
     },
     "execution_count": 36,
     "metadata": {},
     "output_type": "execute_result"
    }
   ],
   "source": [
    "### observe not unique rows \n",
    "\n",
    "#unique_ID = df.ID.unique()\n",
    "#cn = df['Case Number'].unique()\n",
    "#print(len(unique_ID)) #3182854\n",
    "#print(len(cn)) #3182854\n",
    "#not_unique = df[df.duplicated(subset=['ID'],keep=False)]\n",
    "#not_unique.sort_values('ID')\n",
    "#not_unique\n"
   ]
  },
  {
   "cell_type": "code",
   "execution_count": 46,
   "metadata": {},
   "outputs": [
    {
     "data": {
      "text/plain": [
       "380611     15.0\n",
       "1528107    15.0\n",
       "Name: District, dtype: float64"
      ]
     },
     "execution_count": 46,
     "metadata": {},
     "output_type": "execute_result"
    }
   ],
   "source": []
  },
  {
   "cell_type": "code",
   "execution_count": null,
   "metadata": {},
   "outputs": [],
   "source": []
  }
 ],
 "metadata": {
  "kernelspec": {
   "display_name": "Python 3",
   "language": "python",
   "name": "python3"
  },
  "language_info": {
   "codemirror_mode": {
    "name": "ipython",
    "version": 3
   },
   "file_extension": ".py",
   "mimetype": "text/x-python",
   "name": "python",
   "nbconvert_exporter": "python",
   "pygments_lexer": "ipython3",
   "version": "3.6.5"
  }
 },
 "nbformat": 4,
 "nbformat_minor": 2
}
